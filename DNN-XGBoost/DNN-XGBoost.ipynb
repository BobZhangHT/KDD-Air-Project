{
 "cells": [
  {
   "cell_type": "code",
   "execution_count": 1,
   "metadata": {},
   "outputs": [
    {
     "name": "stderr",
     "output_type": "stream",
     "text": [
      "/Users/zhanght/anaconda3/lib/python3.6/site-packages/h5py/__init__.py:36: FutureWarning: Conversion of the second argument of issubdtype from `float` to `np.floating` is deprecated. In future, it will be treated as `np.float64 == np.dtype(float).type`.\n",
      "  from ._conv import register_converters as _register_converters\n",
      "Using TensorFlow backend.\n"
     ]
    }
   ],
   "source": [
    "import numpy as np\n",
    "import pandas as pd\n",
    "import matplotlib.pyplot as plt\n",
    "\n",
    "from keras.models import Model\n",
    "from xgboost import XGBRegressor\n",
    "\n",
    "%matplotlib inline"
   ]
  },
  {
   "cell_type": "code",
   "execution_count": 2,
   "metadata": {},
   "outputs": [
    {
     "data": {
      "text/plain": [
       "array([[ 0.49237545, -1.31158826,  1.50796416, ...,  0.        ,\n",
       "         0.        ,  1.        ],\n",
       "       [ 0.63266203, -1.2111115 ,  1.48764176, ...,  0.        ,\n",
       "         0.        ,  1.        ],\n",
       "       [ 0.71568878, -1.19101615,  1.45715816, ...,  0.        ,\n",
       "         0.        ,  1.        ],\n",
       "       ...,\n",
       "       [-0.48676759,  0.73813757, -0.28548783, ...,  0.        ,\n",
       "         0.        ,  1.        ],\n",
       "       [-0.47130744,  0.59747011, -0.24992363, ...,  0.        ,\n",
       "         1.        ,  0.        ],\n",
       "       [-0.45928288,  0.05489563, -0.20927882, ...,  0.        ,\n",
       "         1.        ,  0.        ]])"
      ]
     },
     "execution_count": 2,
     "metadata": {},
     "output_type": "execute_result"
    }
   ],
   "source": [
    "# load the data\n",
    "dat=pd.read_table('dat4nn.txt',header=None,delim_whitespace=True)\n",
    "dat=np.array(dat)\n",
    "dat"
   ]
  },
  {
   "cell_type": "code",
   "execution_count": 3,
   "metadata": {},
   "outputs": [],
   "source": [
    "# reshape the data to feed the model\n",
    "def genarator(data,lookback,step,delay):\n",
    "    n=len(data)\n",
    "    N=n-lookback-delay+1 # size of trainable data\n",
    "    X=np.zeros((N,lookback//step,data.shape[-1]))\n",
    "    y=np.zeros((N,delay))\n",
    "\n",
    "    for i,j in enumerate(np.arange(lookback+delay-1,n)):\n",
    "        ind_y=np.arange(j-delay+1,j+1)\n",
    "        ind_X=np.arange(j-delay-lookback+1,j-delay+1,step)\n",
    "        y[i,:]=data[ind_y,1]\n",
    "        X[i,:,:]=data[ind_X]\n",
    "    \n",
    "    #X=np.reshape(X,(N,-1))\n",
    "    return X,y"
   ]
  },
  {
   "cell_type": "code",
   "execution_count": 4,
   "metadata": {},
   "outputs": [],
   "source": [
    "# parameters setting\n",
    "lookback=24*14\n",
    "step=3\n",
    "delay=24"
   ]
  },
  {
   "cell_type": "code",
   "execution_count": 5,
   "metadata": {},
   "outputs": [
    {
     "name": "stdout",
     "output_type": "stream",
     "text": [
      "The shape of X: (11276, 112, 24)\n",
      "The shape of y: (11276, 24)\n"
     ]
    }
   ],
   "source": [
    "X,y=genarator(dat,lookback,step,delay)\n",
    "print('The shape of X:',X.shape)\n",
    "print('The shape of y:',y.shape)"
   ]
  },
  {
   "cell_type": "code",
   "execution_count": 6,
   "metadata": {},
   "outputs": [
    {
     "name": "stdout",
     "output_type": "stream",
     "text": [
      "__________________________________________________________________________________________________\n",
      "Layer (type)                    Output Shape         Param #     Connected to                     \n",
      "==================================================================================================\n",
      "input_6 (InputLayer)            (None, 112, 24)      0                                            \n",
      "__________________________________________________________________________________________________\n",
      "flatten_6 (Flatten)             (None, 2688)         0           input_6[0][0]                    \n",
      "__________________________________________________________________________________________________\n",
      "dense_31 (Dense)                (None, 1024)         2753536     flatten_6[0][0]                  \n",
      "__________________________________________________________________________________________________\n",
      "batch_normalization_22 (BatchNo (None, 1024)         4096        dense_31[0][0]                   \n",
      "__________________________________________________________________________________________________\n",
      "dropout_26 (Dropout)            (None, 1024)         0           batch_normalization_22[0][0]     \n",
      "__________________________________________________________________________________________________\n",
      "concatenate_21 (Concatenate)    (None, 3712)         0           flatten_6[0][0]                  \n",
      "                                                                 dropout_26[0][0]                 \n",
      "__________________________________________________________________________________________________\n",
      "dense_32 (Dense)                (None, 512)          1901056     concatenate_21[0][0]             \n",
      "__________________________________________________________________________________________________\n",
      "batch_normalization_23 (BatchNo (None, 512)          2048        dense_32[0][0]                   \n",
      "__________________________________________________________________________________________________\n",
      "dropout_27 (Dropout)            (None, 512)          0           batch_normalization_23[0][0]     \n",
      "__________________________________________________________________________________________________\n",
      "concatenate_22 (Concatenate)    (None, 3200)         0           flatten_6[0][0]                  \n",
      "                                                                 dropout_27[0][0]                 \n",
      "__________________________________________________________________________________________________\n",
      "dense_33 (Dense)                (None, 256)          819456      concatenate_22[0][0]             \n",
      "__________________________________________________________________________________________________\n",
      "batch_normalization_24 (BatchNo (None, 256)          1024        dense_33[0][0]                   \n",
      "__________________________________________________________________________________________________\n",
      "dropout_28 (Dropout)            (None, 256)          0           batch_normalization_24[0][0]     \n",
      "__________________________________________________________________________________________________\n",
      "concatenate_23 (Concatenate)    (None, 2944)         0           flatten_6[0][0]                  \n",
      "                                                                 dropout_28[0][0]                 \n",
      "__________________________________________________________________________________________________\n",
      "dense_34 (Dense)                (None, 64)           188480      concatenate_23[0][0]             \n",
      "__________________________________________________________________________________________________\n",
      "batch_normalization_25 (BatchNo (None, 64)           256         dense_34[0][0]                   \n",
      "__________________________________________________________________________________________________\n",
      "dropout_29 (Dropout)            (None, 64)           0           batch_normalization_25[0][0]     \n",
      "__________________________________________________________________________________________________\n",
      "concatenate_24 (Concatenate)    (None, 2752)         0           flatten_6[0][0]                  \n",
      "                                                                 dropout_29[0][0]                 \n",
      "__________________________________________________________________________________________________\n",
      "dense_35 (Dense)                (None, 32)           88096       concatenate_24[0][0]             \n",
      "__________________________________________________________________________________________________\n",
      "batch_normalization_26 (BatchNo (None, 32)           128         dense_35[0][0]                   \n",
      "__________________________________________________________________________________________________\n",
      "dropout_30 (Dropout)            (None, 32)           0           batch_normalization_26[0][0]     \n",
      "__________________________________________________________________________________________________\n",
      "dense_36 (Dense)                (None, 24)           792         dropout_30[0][0]                 \n",
      "==================================================================================================\n",
      "Total params: 5,758,968\n",
      "Trainable params: 5,755,192\n",
      "Non-trainable params: 3,776\n",
      "__________________________________________________________________________________________________\n"
     ]
    }
   ],
   "source": [
    "# Load DNN_V2\n",
    "from keras.models import load_model\n",
    "model=load_model('md_DNN_V2.h5')\n",
    "model.summary()"
   ]
  },
  {
   "cell_type": "code",
   "execution_count": 8,
   "metadata": {},
   "outputs": [],
   "source": [
    "# get intermediate layer output to create low-dimensional features\n",
    "feature_model = Model(inputs=model.input,outputs=model.get_layer('batch_normalization_26').output)\n",
    "#feature_model.summary()"
   ]
  },
  {
   "cell_type": "code",
   "execution_count": 9,
   "metadata": {},
   "outputs": [
    {
     "data": {
      "text/plain": [
       "(11276, 32)"
      ]
     },
     "execution_count": 9,
     "metadata": {},
     "output_type": "execute_result"
    }
   ],
   "source": [
    "# obtain new X and y\n",
    "X_new=feature_model.predict(X)\n",
    "X_new.shape"
   ]
  },
  {
   "cell_type": "code",
   "execution_count": 10,
   "metadata": {},
   "outputs": [],
   "source": [
    "from sklearn.model_selection import train_test_split, GridSearchCV\n",
    "X_train,X_test,y_train,y_test=train_test_split(X_new,y,test_size=.2,random_state=1)"
   ]
  },
  {
   "cell_type": "markdown",
   "metadata": {},
   "source": [
    "# Tuning Step by Step\n",
    "Concerning XGBoost could only regress with single response, it hereby requires 24 independent models to predict PM2.5 in this case. The most important part of using XGBoost lies on parameters tuning. To present the fine tuning progress, we only take the first hour into account here and the rest ones could be conducted by other rougher tuning strategies mentioned in Andrew Ng's deep learning course. Thanks to AARSHAY JAIN's helpful [blog](https://www.analyticsvidhya.com/blog/2016/03/complete-guide-parameter-tuning-xgboost-with-codes-python/) about XGBoost tuning!"
   ]
  },
  {
   "cell_type": "markdown",
   "metadata": {},
   "source": [
    "## max_depth & min_child_weight"
   ]
  },
  {
   "cell_type": "code",
   "execution_count": 35,
   "metadata": {},
   "outputs": [
    {
     "name": "stderr",
     "output_type": "stream",
     "text": [
      "/Users/zhanght/anaconda3/lib/python3.6/site-packages/sklearn/model_selection/_search.py:761: DeprecationWarning: The grid_scores_ attribute was deprecated in version 0.18 in favor of the more elaborate cv_results_ attribute. The grid_scores_ attribute will not be available from 0.20\n",
      "  DeprecationWarning)\n"
     ]
    },
    {
     "data": {
      "text/plain": [
       "([mean: -0.43203, std: 0.00409, params: {'max_depth': 3, 'min_child_weight': 1},\n",
       "  mean: -0.43196, std: 0.00364, params: {'max_depth': 3, 'min_child_weight': 3},\n",
       "  mean: -0.43324, std: 0.00456, params: {'max_depth': 3, 'min_child_weight': 5},\n",
       "  mean: -0.40465, std: 0.00426, params: {'max_depth': 5, 'min_child_weight': 1},\n",
       "  mean: -0.40672, std: 0.00470, params: {'max_depth': 5, 'min_child_weight': 3},\n",
       "  mean: -0.40725, std: 0.00667, params: {'max_depth': 5, 'min_child_weight': 5},\n",
       "  mean: -0.39065, std: 0.00908, params: {'max_depth': 7, 'min_child_weight': 1},\n",
       "  mean: -0.39131, std: 0.00843, params: {'max_depth': 7, 'min_child_weight': 3},\n",
       "  mean: -0.39236, std: 0.00613, params: {'max_depth': 7, 'min_child_weight': 5},\n",
       "  mean: -0.38702, std: 0.00553, params: {'max_depth': 9, 'min_child_weight': 1},\n",
       "  mean: -0.38575, std: 0.00806, params: {'max_depth': 9, 'min_child_weight': 3},\n",
       "  mean: -0.38448, std: 0.00654, params: {'max_depth': 9, 'min_child_weight': 5}],\n",
       " {'max_depth': 9, 'min_child_weight': 5},\n",
       " -0.3844763034330435)"
      ]
     },
     "execution_count": 35,
     "metadata": {},
     "output_type": "execute_result"
    }
   ],
   "source": [
    "# cross validation\n",
    "param1 = {\n",
    " 'max_depth':np.arange(3,10,2),\n",
    " 'min_child_weight':np.arange(1,6,2)\n",
    "}\n",
    "gs1 = GridSearchCV(estimator = XGBRegressor(learning_rate =0.1,n_estimators=1000, max_depth=5,\n",
    "                                            subsample=0.8, colsample_bytree=0.8,\n",
    "                                             min_child_weight=1, gamma=0,\n",
    "                                           scale_pos_weight=1.0,seed=1), \n",
    "                            param_grid = param1, scoring='neg_mean_absolute_error', cv=3)\n",
    "gs1.fit(X_train,y_train[:,-1])\n",
    "gs1.grid_scores_, gs1.best_params_, gs1.best_score_"
   ]
  },
  {
   "cell_type": "code",
   "execution_count": 38,
   "metadata": {},
   "outputs": [
    {
     "name": "stderr",
     "output_type": "stream",
     "text": [
      "/Users/zhanght/anaconda3/lib/python3.6/site-packages/sklearn/model_selection/_search.py:761: DeprecationWarning: The grid_scores_ attribute was deprecated in version 0.18 in favor of the more elaborate cv_results_ attribute. The grid_scores_ attribute will not be available from 0.20\n",
      "  DeprecationWarning)\n"
     ]
    },
    {
     "data": {
      "text/plain": [
       "([mean: -0.37582, std: 0.00716, params: {'max_depth': 8, 'min_child_weight': 4},\n",
       "  mean: -0.37408, std: 0.00660, params: {'max_depth': 8, 'min_child_weight': 5},\n",
       "  mean: -0.37423, std: 0.00540, params: {'max_depth': 8, 'min_child_weight': 6},\n",
       "  mean: -0.37047, std: 0.00949, params: {'max_depth': 9, 'min_child_weight': 4},\n",
       "  mean: -0.37000, std: 0.00857, params: {'max_depth': 9, 'min_child_weight': 5},\n",
       "  mean: -0.37048, std: 0.00840, params: {'max_depth': 9, 'min_child_weight': 6},\n",
       "  mean: -0.36969, std: 0.00902, params: {'max_depth': 10, 'min_child_weight': 4},\n",
       "  mean: -0.36890, std: 0.00923, params: {'max_depth': 10, 'min_child_weight': 5},\n",
       "  mean: -0.36974, std: 0.00982, params: {'max_depth': 10, 'min_child_weight': 6},\n",
       "  mean: -0.36825, std: 0.00966, params: {'max_depth': 11, 'min_child_weight': 4},\n",
       "  mean: -0.36637, std: 0.00872, params: {'max_depth': 11, 'min_child_weight': 5},\n",
       "  mean: -0.36633, std: 0.00606, params: {'max_depth': 11, 'min_child_weight': 6}],\n",
       " {'max_depth': 11, 'min_child_weight': 6},\n",
       " -0.3663292193088358)"
      ]
     },
     "execution_count": 38,
     "metadata": {},
     "output_type": "execute_result"
    }
   ],
   "source": [
    "param1 = {\n",
    " 'max_depth':[8,9,10,11],\n",
    " 'min_child_weight':[4,5,6]\n",
    "}\n",
    "gs1 = GridSearchCV(estimator = XGBRegressor(learning_rate =0.1,n_estimators=1000, max_depth=5,\n",
    "                                            subsample=0.8, colsample_bytree=0.8,\n",
    "                                             min_child_weight=1, gamma=0,\n",
    "                                           scale_pos_weight=1.0,seed=1), \n",
    "                            param_grid = param1, scoring='neg_mean_absolute_error', cv=5,n_jobs=-1)\n",
    "gs1.fit(X_train,y_train[:,-1])\n",
    "gs1.grid_scores_, gs1.best_params_, gs1.best_score_"
   ]
  },
  {
   "cell_type": "code",
   "execution_count": 43,
   "metadata": {},
   "outputs": [
    {
     "name": "stderr",
     "output_type": "stream",
     "text": [
      "/Users/zhanght/anaconda3/lib/python3.6/site-packages/sklearn/model_selection/_search.py:761: DeprecationWarning: The grid_scores_ attribute was deprecated in version 0.18 in favor of the more elaborate cv_results_ attribute. The grid_scores_ attribute will not be available from 0.20\n",
      "  DeprecationWarning)\n"
     ]
    },
    {
     "data": {
      "text/plain": [
       "([mean: -0.36515, std: 0.00784, params: {'max_depth': 13, 'min_child_weight': 7},\n",
       "  mean: -0.36604, std: 0.00611, params: {'max_depth': 13, 'min_child_weight': 8},\n",
       "  mean: -0.36576, std: 0.00729, params: {'max_depth': 13, 'min_child_weight': 9},\n",
       "  mean: -0.36665, std: 0.00713, params: {'max_depth': 13, 'min_child_weight': 10},\n",
       "  mean: -0.36586, std: 0.00826, params: {'max_depth': 15, 'min_child_weight': 7},\n",
       "  mean: -0.36642, std: 0.00770, params: {'max_depth': 15, 'min_child_weight': 8},\n",
       "  mean: -0.36403, std: 0.00930, params: {'max_depth': 15, 'min_child_weight': 9},\n",
       "  mean: -0.36422, std: 0.00674, params: {'max_depth': 15, 'min_child_weight': 10},\n",
       "  mean: -0.36497, std: 0.00648, params: {'max_depth': 17, 'min_child_weight': 7},\n",
       "  mean: -0.36695, std: 0.00653, params: {'max_depth': 17, 'min_child_weight': 8},\n",
       "  mean: -0.36403, std: 0.00973, params: {'max_depth': 17, 'min_child_weight': 9},\n",
       "  mean: -0.36414, std: 0.00597, params: {'max_depth': 17, 'min_child_weight': 10}],\n",
       " {'max_depth': 15, 'min_child_weight': 9},\n",
       " -0.3640319199434685)"
      ]
     },
     "execution_count": 43,
     "metadata": {},
     "output_type": "execute_result"
    }
   ],
   "source": [
    "param1 = {\n",
    " 'max_depth':[13,15,17],\n",
    " 'min_child_weight':[7,8,9,10]\n",
    "}\n",
    "gs1 = GridSearchCV(estimator = XGBRegressor(learning_rate =0.1,n_estimators=500, max_depth=5,\n",
    "                                            subsample=0.8, colsample_bytree=0.8,\n",
    "                                             min_child_weight=1, gamma=0,\n",
    "                                           scale_pos_weight=1.0,seed=1), \n",
    "                            param_grid = param1, scoring='neg_mean_absolute_error', cv=5,n_jobs=-1)\n",
    "gs1.fit(X_train,y_train[:,-1])\n",
    "gs1.grid_scores_, gs1.best_params_, gs1.best_score_"
   ]
  },
  {
   "cell_type": "code",
   "execution_count": 44,
   "metadata": {},
   "outputs": [
    {
     "name": "stderr",
     "output_type": "stream",
     "text": [
      "/Users/zhanght/anaconda3/lib/python3.6/site-packages/sklearn/model_selection/_search.py:761: DeprecationWarning: The grid_scores_ attribute was deprecated in version 0.18 in favor of the more elaborate cv_results_ attribute. The grid_scores_ attribute will not be available from 0.20\n",
      "  DeprecationWarning)\n"
     ]
    },
    {
     "data": {
      "text/plain": [
       "([mean: -0.36469, std: 0.00764, params: {'max_depth': 14, 'min_child_weight': 7},\n",
       "  mean: -0.36510, std: 0.00679, params: {'max_depth': 14, 'min_child_weight': 8},\n",
       "  mean: -0.36530, std: 0.00742, params: {'max_depth': 14, 'min_child_weight': 9},\n",
       "  mean: -0.36315, std: 0.00756, params: {'max_depth': 14, 'min_child_weight': 10},\n",
       "  mean: -0.36586, std: 0.00826, params: {'max_depth': 15, 'min_child_weight': 7},\n",
       "  mean: -0.36642, std: 0.00770, params: {'max_depth': 15, 'min_child_weight': 8},\n",
       "  mean: -0.36403, std: 0.00930, params: {'max_depth': 15, 'min_child_weight': 9},\n",
       "  mean: -0.36422, std: 0.00674, params: {'max_depth': 15, 'min_child_weight': 10},\n",
       "  mean: -0.36505, std: 0.00817, params: {'max_depth': 16, 'min_child_weight': 7},\n",
       "  mean: -0.36410, std: 0.00626, params: {'max_depth': 16, 'min_child_weight': 8},\n",
       "  mean: -0.36190, std: 0.00710, params: {'max_depth': 16, 'min_child_weight': 9},\n",
       "  mean: -0.36513, std: 0.00696, params: {'max_depth': 16, 'min_child_weight': 10}],\n",
       " {'max_depth': 16, 'min_child_weight': 9},\n",
       " -0.36189817183002176)"
      ]
     },
     "execution_count": 44,
     "metadata": {},
     "output_type": "execute_result"
    }
   ],
   "source": [
    "param1 = {\n",
    " 'max_depth':[14,15,16],\n",
    " 'min_child_weight':[7,8,9,10]\n",
    "}\n",
    "gs1 = GridSearchCV(estimator = XGBRegressor(learning_rate =0.1,n_estimators=500, max_depth=5,\n",
    "                                            subsample=0.8, colsample_bytree=0.8,\n",
    "                                             min_child_weight=1, gamma=0,\n",
    "                                           scale_pos_weight=1.0,seed=1), \n",
    "                            param_grid = param1, scoring='neg_mean_absolute_error', cv=5,n_jobs=-1)\n",
    "gs1.fit(X_train,y_train[:,-1])\n",
    "gs1.grid_scores_, gs1.best_params_, gs1.best_score_"
   ]
  },
  {
   "cell_type": "code",
   "execution_count": 46,
   "metadata": {},
   "outputs": [
    {
     "name": "stderr",
     "output_type": "stream",
     "text": [
      "/Users/zhanght/anaconda3/lib/python3.6/site-packages/sklearn/model_selection/_search.py:761: DeprecationWarning: The grid_scores_ attribute was deprecated in version 0.18 in favor of the more elaborate cv_results_ attribute. The grid_scores_ attribute will not be available from 0.20\n",
      "  DeprecationWarning)\n"
     ]
    },
    {
     "data": {
      "text/plain": [
       "([mean: -0.36410, std: 0.00626, params: {'max_depth': 16, 'min_child_weight': 8},\n",
       "  mean: -0.36190, std: 0.00710, params: {'max_depth': 16, 'min_child_weight': 9},\n",
       "  mean: -0.36513, std: 0.00696, params: {'max_depth': 16, 'min_child_weight': 10},\n",
       "  mean: -0.36695, std: 0.00653, params: {'max_depth': 17, 'min_child_weight': 8},\n",
       "  mean: -0.36403, std: 0.00973, params: {'max_depth': 17, 'min_child_weight': 9},\n",
       "  mean: -0.36414, std: 0.00597, params: {'max_depth': 17, 'min_child_weight': 10},\n",
       "  mean: -0.36448, std: 0.00718, params: {'max_depth': 18, 'min_child_weight': 8},\n",
       "  mean: -0.36576, std: 0.00829, params: {'max_depth': 18, 'min_child_weight': 9},\n",
       "  mean: -0.36403, std: 0.00571, params: {'max_depth': 18, 'min_child_weight': 10}],\n",
       " {'max_depth': 16, 'min_child_weight': 9},\n",
       " -0.36189817183002176)"
      ]
     },
     "execution_count": 46,
     "metadata": {},
     "output_type": "execute_result"
    }
   ],
   "source": [
    "param1 = {\n",
    " 'max_depth':[16,17,18],\n",
    " 'min_child_weight':[8,9,10]\n",
    "}\n",
    "gs1 = GridSearchCV(estimator = XGBRegressor(learning_rate =0.1,n_estimators=500, max_depth=5,\n",
    "                                            subsample=0.8, colsample_bytree=0.8,\n",
    "                                             min_child_weight=1, gamma=0,\n",
    "                                           scale_pos_weight=1.0,seed=1), \n",
    "                            param_grid = param1, scoring='neg_mean_absolute_error', cv=5,n_jobs=-1)\n",
    "gs1.fit(X_train,y_train[:,-1])\n",
    "gs1.grid_scores_, gs1.best_params_, gs1.best_score_"
   ]
  },
  {
   "cell_type": "markdown",
   "metadata": {},
   "source": [
    "## gamma"
   ]
  },
  {
   "cell_type": "code",
   "execution_count": 47,
   "metadata": {},
   "outputs": [
    {
     "name": "stderr",
     "output_type": "stream",
     "text": [
      "/Users/zhanght/anaconda3/lib/python3.6/site-packages/sklearn/model_selection/_search.py:761: DeprecationWarning: The grid_scores_ attribute was deprecated in version 0.18 in favor of the more elaborate cv_results_ attribute. The grid_scores_ attribute will not be available from 0.20\n",
      "  DeprecationWarning)\n"
     ]
    },
    {
     "data": {
      "text/plain": [
       "([mean: -0.36190, std: 0.00710, params: {'gamma': 0.0},\n",
       "  mean: -0.37217, std: 0.00791, params: {'gamma': 0.1},\n",
       "  mean: -0.37474, std: 0.00745, params: {'gamma': 0.2},\n",
       "  mean: -0.37784, std: 0.00663, params: {'gamma': 0.3},\n",
       "  mean: -0.37722, std: 0.00786, params: {'gamma': 0.4}],\n",
       " {'gamma': 0.0},\n",
       " -0.36189817183002176)"
      ]
     },
     "execution_count": 47,
     "metadata": {},
     "output_type": "execute_result"
    }
   ],
   "source": [
    "param2 = {\n",
    " 'gamma':[i/10.0 for i in range(0,5)]\n",
    "}\n",
    "gs2 = GridSearchCV(estimator = XGBRegressor(learning_rate =0.1,n_estimators=500, max_depth=16,\n",
    "                                            subsample=0.8, colsample_bytree=0.8,\n",
    "                                             min_child_weight=9, gamma=0,\n",
    "                                           scale_pos_weight=1.0,seed=1), \n",
    "                            param_grid = param2, scoring='neg_mean_absolute_error', cv=5,n_jobs=-1)\n",
    "gs2.fit(X_train,y_train[:,-1])\n",
    "gs2.grid_scores_, gs2.best_params_, gs2.best_score_"
   ]
  },
  {
   "cell_type": "markdown",
   "metadata": {},
   "source": [
    "## subsample and colsample_bytree"
   ]
  },
  {
   "cell_type": "code",
   "execution_count": 48,
   "metadata": {},
   "outputs": [
    {
     "name": "stderr",
     "output_type": "stream",
     "text": [
      "/Users/zhanght/anaconda3/lib/python3.6/site-packages/sklearn/model_selection/_search.py:761: DeprecationWarning: The grid_scores_ attribute was deprecated in version 0.18 in favor of the more elaborate cv_results_ attribute. The grid_scores_ attribute will not be available from 0.20\n",
      "  DeprecationWarning)\n"
     ]
    },
    {
     "data": {
      "text/plain": [
       "([mean: -0.37561, std: 0.00608, params: {'colsample_bytree': 0.6, 'subsample': 0.6},\n",
       "  mean: -0.37357, std: 0.00419, params: {'colsample_bytree': 0.6, 'subsample': 0.7},\n",
       "  mean: -0.37301, std: 0.00609, params: {'colsample_bytree': 0.6, 'subsample': 0.8},\n",
       "  mean: -0.37143, std: 0.00671, params: {'colsample_bytree': 0.6, 'subsample': 0.9},\n",
       "  mean: -0.36945, std: 0.00863, params: {'colsample_bytree': 0.7, 'subsample': 0.6},\n",
       "  mean: -0.36500, std: 0.00697, params: {'colsample_bytree': 0.7, 'subsample': 0.7},\n",
       "  mean: -0.36611, std: 0.00619, params: {'colsample_bytree': 0.7, 'subsample': 0.8},\n",
       "  mean: -0.36727, std: 0.00565, params: {'colsample_bytree': 0.7, 'subsample': 0.9},\n",
       "  mean: -0.36809, std: 0.00610, params: {'colsample_bytree': 0.8, 'subsample': 0.6},\n",
       "  mean: -0.36221, std: 0.00728, params: {'colsample_bytree': 0.8, 'subsample': 0.7},\n",
       "  mean: -0.36190, std: 0.00710, params: {'colsample_bytree': 0.8, 'subsample': 0.8},\n",
       "  mean: -0.36566, std: 0.00867, params: {'colsample_bytree': 0.8, 'subsample': 0.9},\n",
       "  mean: -0.36798, std: 0.00645, params: {'colsample_bytree': 0.9, 'subsample': 0.6},\n",
       "  mean: -0.36170, std: 0.00505, params: {'colsample_bytree': 0.9, 'subsample': 0.7},\n",
       "  mean: -0.36373, std: 0.00632, params: {'colsample_bytree': 0.9, 'subsample': 0.8},\n",
       "  mean: -0.36543, std: 0.00858, params: {'colsample_bytree': 0.9, 'subsample': 0.9}],\n",
       " {'colsample_bytree': 0.9, 'subsample': 0.7},\n",
       " -0.36170014404287937)"
      ]
     },
     "execution_count": 48,
     "metadata": {},
     "output_type": "execute_result"
    }
   ],
   "source": [
    "param3 = {\n",
    " 'subsample':[i/10.0 for i in range(6,10)],\n",
    " 'colsample_bytree':[i/10.0 for i in range(6,10)]\n",
    "}\n",
    "gs3 = GridSearchCV(estimator = XGBRegressor(learning_rate =0.1,n_estimators=500, max_depth=16,\n",
    "                                            subsample=0.8, colsample_bytree=0.8,\n",
    "                                             min_child_weight=9, gamma=0,\n",
    "                                           scale_pos_weight=1.0,seed=1), \n",
    "                            param_grid = param3, scoring='neg_mean_absolute_error', cv=5,n_jobs=-1)\n",
    "gs3.fit(X_train,y_train[:,-1])\n",
    "gs3.grid_scores_, gs3.best_params_, gs3.best_score_"
   ]
  },
  {
   "cell_type": "code",
   "execution_count": 50,
   "metadata": {},
   "outputs": [
    {
     "name": "stderr",
     "output_type": "stream",
     "text": [
      "/Users/zhanght/anaconda3/lib/python3.6/site-packages/sklearn/model_selection/_search.py:761: DeprecationWarning: The grid_scores_ attribute was deprecated in version 0.18 in favor of the more elaborate cv_results_ attribute. The grid_scores_ attribute will not be available from 0.20\n",
      "  DeprecationWarning)\n"
     ]
    },
    {
     "data": {
      "text/plain": [
       "([mean: -0.36809, std: 0.00610, params: {'colsample_bytree': 0.8, 'subsample': 0.6},\n",
       "  mean: -0.36909, std: 0.00562, params: {'colsample_bytree': 0.8, 'subsample': 0.65},\n",
       "  mean: -0.36221, std: 0.00728, params: {'colsample_bytree': 0.8, 'subsample': 0.7},\n",
       "  mean: -0.36505, std: 0.00621, params: {'colsample_bytree': 0.8, 'subsample': 0.75},\n",
       "  mean: -0.36696, std: 0.00981, params: {'colsample_bytree': 0.85, 'subsample': 0.6},\n",
       "  mean: -0.36515, std: 0.00653, params: {'colsample_bytree': 0.85, 'subsample': 0.65},\n",
       "  mean: -0.36316, std: 0.00596, params: {'colsample_bytree': 0.85, 'subsample': 0.7},\n",
       "  mean: -0.36344, std: 0.00624, params: {'colsample_bytree': 0.85, 'subsample': 0.75},\n",
       "  mean: -0.36798, std: 0.00645, params: {'colsample_bytree': 0.9, 'subsample': 0.6},\n",
       "  mean: -0.36811, std: 0.00972, params: {'colsample_bytree': 0.9, 'subsample': 0.65},\n",
       "  mean: -0.36170, std: 0.00505, params: {'colsample_bytree': 0.9, 'subsample': 0.7},\n",
       "  mean: -0.36292, std: 0.00772, params: {'colsample_bytree': 0.9, 'subsample': 0.75},\n",
       "  mean: -0.36471, std: 0.00699, params: {'colsample_bytree': 0.95, 'subsample': 0.6},\n",
       "  mean: -0.36516, std: 0.00526, params: {'colsample_bytree': 0.95, 'subsample': 0.65},\n",
       "  mean: -0.36121, std: 0.00812, params: {'colsample_bytree': 0.95, 'subsample': 0.7},\n",
       "  mean: -0.36102, std: 0.00628, params: {'colsample_bytree': 0.95, 'subsample': 0.75}],\n",
       " {'colsample_bytree': 0.95, 'subsample': 0.75},\n",
       " -0.3610166995585693)"
      ]
     },
     "execution_count": 50,
     "metadata": {},
     "output_type": "execute_result"
    }
   ],
   "source": [
    "param3 = {\n",
    " 'subsample':[i/100.0 for i in range(60,80,5)],\n",
    " 'colsample_bytree':[i/100.0 for i in range(80,100,5)]\n",
    "}\n",
    "gs3 = GridSearchCV(estimator = XGBRegressor(learning_rate =0.1,n_estimators=500, max_depth=16,\n",
    "                                            subsample=0.8, colsample_bytree=0.8,\n",
    "                                             min_child_weight=9, gamma=0,\n",
    "                                           scale_pos_weight=1.0,seed=1), \n",
    "                            param_grid = param3, scoring='neg_mean_absolute_error', cv=5,n_jobs=-1)\n",
    "gs3.fit(X_train,y_train[:,-1])\n",
    "gs3.grid_scores_, gs3.best_params_, gs3.best_score_"
   ]
  },
  {
   "cell_type": "markdown",
   "metadata": {},
   "source": [
    "## reg_alpha"
   ]
  },
  {
   "cell_type": "code",
   "execution_count": 51,
   "metadata": {},
   "outputs": [
    {
     "name": "stderr",
     "output_type": "stream",
     "text": [
      "/Users/zhanght/anaconda3/lib/python3.6/site-packages/sklearn/model_selection/_search.py:761: DeprecationWarning: The grid_scores_ attribute was deprecated in version 0.18 in favor of the more elaborate cv_results_ attribute. The grid_scores_ attribute will not be available from 0.20\n",
      "  DeprecationWarning)\n"
     ]
    },
    {
     "data": {
      "text/plain": [
       "([mean: -0.36124, std: 0.00623, params: {'reg_alpha': 1e-05},\n",
       "  mean: -0.36249, std: 0.00815, params: {'reg_alpha': 0.01},\n",
       "  mean: -0.35785, std: 0.00671, params: {'reg_alpha': 0.1},\n",
       "  mean: -0.35416, std: 0.00485, params: {'reg_alpha': 1},\n",
       "  mean: -0.48667, std: 0.00763, params: {'reg_alpha': 100}],\n",
       " {'reg_alpha': 1},\n",
       " -0.3541596875244134)"
      ]
     },
     "execution_count": 51,
     "metadata": {},
     "output_type": "execute_result"
    }
   ],
   "source": [
    "param4 = {\n",
    " 'reg_alpha':[1e-5, 1e-2, 0.1, 1, 100]\n",
    "}\n",
    "gs4 = GridSearchCV(estimator = XGBRegressor(learning_rate =0.1,n_estimators=500, max_depth=16,\n",
    "                                            subsample=0.75, colsample_bytree=0.95,\n",
    "                                             min_child_weight=9, gamma=0,\n",
    "                                           scale_pos_weight=1.0,seed=1), \n",
    "                            param_grid = param4, scoring='neg_mean_absolute_error', cv=5,n_jobs=-1)\n",
    "gs4.fit(X_train,y_train[:,-1])\n",
    "gs4.grid_scores_, gs4.best_params_, gs4.best_score_"
   ]
  },
  {
   "cell_type": "code",
   "execution_count": 53,
   "metadata": {},
   "outputs": [
    {
     "name": "stderr",
     "output_type": "stream",
     "text": [
      "/Users/zhanght/anaconda3/lib/python3.6/site-packages/sklearn/model_selection/_search.py:761: DeprecationWarning: The grid_scores_ attribute was deprecated in version 0.18 in favor of the more elaborate cv_results_ attribute. The grid_scores_ attribute will not be available from 0.20\n",
      "  DeprecationWarning)\n"
     ]
    },
    {
     "data": {
      "text/plain": [
       "([mean: -0.35785, std: 0.00671, params: {'reg_alpha': 0.1},\n",
       "  mean: -0.35608, std: 0.00595, params: {'reg_alpha': 0.2},\n",
       "  mean: -0.35658, std: 0.00740, params: {'reg_alpha': 0.30000000000000004},\n",
       "  mean: -0.35770, std: 0.00765, params: {'reg_alpha': 0.4},\n",
       "  mean: -0.35740, std: 0.00646, params: {'reg_alpha': 0.5},\n",
       "  mean: -0.35533, std: 0.00394, params: {'reg_alpha': 0.6},\n",
       "  mean: -0.35575, std: 0.00637, params: {'reg_alpha': 0.7000000000000001},\n",
       "  mean: -0.35547, std: 0.00542, params: {'reg_alpha': 0.8},\n",
       "  mean: -0.35637, std: 0.00589, params: {'reg_alpha': 0.9}],\n",
       " {'reg_alpha': 0.6},\n",
       " -0.3553327457690302)"
      ]
     },
     "execution_count": 53,
     "metadata": {},
     "output_type": "execute_result"
    }
   ],
   "source": [
    "param4 = {\n",
    " 'reg_alpha':np.arange(0.1,1,0.1)\n",
    "}\n",
    "gs4 = GridSearchCV(estimator = XGBRegressor(learning_rate =0.1,n_estimators=500, max_depth=16,\n",
    "                                            subsample=0.75, colsample_bytree=0.95,\n",
    "                                             min_child_weight=9, gamma=0,\n",
    "                                           scale_pos_weight=1.0,seed=1), \n",
    "                            param_grid = param4, scoring='neg_mean_absolute_error', cv=5,n_jobs=-1)\n",
    "gs4.fit(X_train,y_train[:,-1])\n",
    "gs4.grid_scores_, gs4.best_params_, gs4.best_score_"
   ]
  },
  {
   "cell_type": "code",
   "execution_count": 57,
   "metadata": {},
   "outputs": [
    {
     "name": "stdout",
     "output_type": "stream",
     "text": [
      "[0]\tvalidation_0-mae:0.947146\tvalidation_1-mae:0.96722\n",
      "[200]\tvalidation_0-mae:0.300269\tvalidation_1-mae:0.309682\n",
      "[400]\tvalidation_0-mae:0.239953\tvalidation_1-mae:0.254005\n",
      "[600]\tvalidation_0-mae:0.226547\tvalidation_1-mae:0.243912\n",
      "[800]\tvalidation_0-mae:0.219776\tvalidation_1-mae:0.239266\n",
      "[1000]\tvalidation_0-mae:0.214993\tvalidation_1-mae:0.236289\n",
      "[1200]\tvalidation_0-mae:0.211244\tvalidation_1-mae:0.234533\n",
      "[1400]\tvalidation_0-mae:0.208124\tvalidation_1-mae:0.233419\n",
      "[1600]\tvalidation_0-mae:0.205619\tvalidation_1-mae:0.232471\n",
      "[1800]\tvalidation_0-mae:0.203394\tvalidation_1-mae:0.231736\n",
      "[2000]\tvalidation_0-mae:0.201197\tvalidation_1-mae:0.231174\n",
      "[2200]\tvalidation_0-mae:0.19917\tvalidation_1-mae:0.230526\n",
      "[2400]\tvalidation_0-mae:0.197189\tvalidation_1-mae:0.229881\n",
      "[2600]\tvalidation_0-mae:0.195236\tvalidation_1-mae:0.229266\n",
      "[2800]\tvalidation_0-mae:0.193453\tvalidation_1-mae:0.228723\n",
      "[3000]\tvalidation_0-mae:0.191777\tvalidation_1-mae:0.228247\n",
      "[3200]\tvalidation_0-mae:0.190166\tvalidation_1-mae:0.227756\n",
      "[3400]\tvalidation_0-mae:0.188595\tvalidation_1-mae:0.227264\n",
      "[3600]\tvalidation_0-mae:0.186984\tvalidation_1-mae:0.22678\n",
      "[3800]\tvalidation_0-mae:0.185384\tvalidation_1-mae:0.226397\n",
      "[4000]\tvalidation_0-mae:0.183778\tvalidation_1-mae:0.226093\n",
      "[4200]\tvalidation_0-mae:0.182365\tvalidation_1-mae:0.225806\n",
      "[4400]\tvalidation_0-mae:0.181024\tvalidation_1-mae:0.225572\n",
      "[4600]\tvalidation_0-mae:0.179632\tvalidation_1-mae:0.225284\n",
      "[4800]\tvalidation_0-mae:0.178341\tvalidation_1-mae:0.225004\n",
      "[4999]\tvalidation_0-mae:0.177202\tvalidation_1-mae:0.224885\n"
     ]
    },
    {
     "data": {
      "text/plain": [
       "XGBRegressor(base_score=0.5, booster='gbtree', colsample_bylevel=1,\n",
       "       colsample_bytree=1, gamma=0, learning_rate=0.01, max_delta_step=0,\n",
       "       max_depth=3, min_child_weight=1, missing=None, n_estimators=5000,\n",
       "       n_jobs=1, nthread=None, objective='reg:linear', random_state=0,\n",
       "       reg_alpha=0, reg_lambda=1, scale_pos_weight=1, seed=None,\n",
       "       silent=True, subsample=1)"
      ]
     },
     "execution_count": 57,
     "metadata": {},
     "output_type": "execute_result"
    }
   ],
   "source": [
    "# XGBoost Regressor Before Tuning\n",
    "xgbr=XGBRegressor(n_estimators=5000,learning_rate=0.01)\n",
    "xgbr.fit(X_train,y_train[:,i],eval_set=[(X_train, y_train[:,i]), (X_test, y_test[:,i])],eval_metric='mae',verbose=200)"
   ]
  },
  {
   "cell_type": "markdown",
   "metadata": {},
   "source": [
    "## Comparisons"
   ]
  },
  {
   "cell_type": "code",
   "execution_count": 58,
   "metadata": {},
   "outputs": [
    {
     "name": "stdout",
     "output_type": "stream",
     "text": [
      "[0]\tvalidation_0-mae:0.946778\tvalidation_1-mae:0.967051\n",
      "[200]\tvalidation_0-mae:0.214673\tvalidation_1-mae:0.276302\n",
      "[400]\tvalidation_0-mae:0.113089\tvalidation_1-mae:0.212929\n",
      "[600]\tvalidation_0-mae:0.081269\tvalidation_1-mae:0.202086\n",
      "[800]\tvalidation_0-mae:0.064445\tvalidation_1-mae:0.198018\n",
      "[1000]\tvalidation_0-mae:0.053391\tvalidation_1-mae:0.195952\n",
      "[1200]\tvalidation_0-mae:0.045655\tvalidation_1-mae:0.194646\n",
      "[1400]\tvalidation_0-mae:0.040203\tvalidation_1-mae:0.193945\n",
      "[1600]\tvalidation_0-mae:0.036124\tvalidation_1-mae:0.193427\n",
      "[1800]\tvalidation_0-mae:0.033011\tvalidation_1-mae:0.192997\n",
      "[2000]\tvalidation_0-mae:0.030543\tvalidation_1-mae:0.192713\n",
      "[2200]\tvalidation_0-mae:0.028579\tvalidation_1-mae:0.192478\n",
      "[2400]\tvalidation_0-mae:0.026927\tvalidation_1-mae:0.1923\n",
      "[2600]\tvalidation_0-mae:0.025561\tvalidation_1-mae:0.192129\n",
      "[2800]\tvalidation_0-mae:0.02444\tvalidation_1-mae:0.191974\n",
      "[3000]\tvalidation_0-mae:0.023455\tvalidation_1-mae:0.191853\n",
      "[3200]\tvalidation_0-mae:0.022596\tvalidation_1-mae:0.191736\n",
      "[3400]\tvalidation_0-mae:0.021824\tvalidation_1-mae:0.191644\n",
      "[3600]\tvalidation_0-mae:0.021149\tvalidation_1-mae:0.19158\n",
      "[3800]\tvalidation_0-mae:0.020553\tvalidation_1-mae:0.191512\n",
      "[4000]\tvalidation_0-mae:0.020006\tvalidation_1-mae:0.191467\n",
      "[4200]\tvalidation_0-mae:0.019503\tvalidation_1-mae:0.191418\n",
      "[4400]\tvalidation_0-mae:0.019053\tvalidation_1-mae:0.191372\n",
      "[4600]\tvalidation_0-mae:0.018642\tvalidation_1-mae:0.191326\n",
      "[4800]\tvalidation_0-mae:0.018257\tvalidation_1-mae:0.19129\n",
      "[4999]\tvalidation_0-mae:0.0179\tvalidation_1-mae:0.191236\n"
     ]
    },
    {
     "data": {
      "text/plain": [
       "XGBRegressor(base_score=0.5, booster='gbtree', colsample_bylevel=1,\n",
       "       colsample_bytree=0.95, gamma=0, learning_rate=0.01,\n",
       "       max_delta_step=0, max_depth=16, min_child_weight=9, missing=None,\n",
       "       n_estimators=5000, n_jobs=1, nthread=None, objective='reg:linear',\n",
       "       random_state=0, reg_alpha=0.6, reg_lambda=1, scale_pos_weight=1.0,\n",
       "       seed=1, silent=True, subsample=0.75)"
      ]
     },
     "execution_count": 58,
     "metadata": {},
     "output_type": "execute_result"
    }
   ],
   "source": [
    "# XGBoost Regressor After Tuning\n",
    "xgbr=XGBRegressor(learning_rate =0.01,n_estimators=5000, max_depth=16,\n",
    "                                            subsample=0.75, colsample_bytree=0.95,\n",
    "                                             min_child_weight=9, gamma=0,\n",
    "                                           scale_pos_weight=1.0,seed=1,reg_alpha=.6)\n",
    "xgbr.fit(X_train,y_train[:,i],eval_set=[(X_train, y_train[:,i]), (X_test, y_test[:,i])],eval_metric='mae',verbose=200)"
   ]
  }
 ],
 "metadata": {
  "kernelspec": {
   "display_name": "Python 3",
   "language": "python",
   "name": "python3"
  },
  "language_info": {
   "codemirror_mode": {
    "name": "ipython",
    "version": 3
   },
   "file_extension": ".py",
   "mimetype": "text/x-python",
   "name": "python",
   "nbconvert_exporter": "python",
   "pygments_lexer": "ipython3",
   "version": "3.6.4"
  }
 },
 "nbformat": 4,
 "nbformat_minor": 2
}
