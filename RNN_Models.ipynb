{
  "nbformat": 4,
  "nbformat_minor": 0,
  "metadata": {
    "colab": {
      "name": "RNN_Models.ipynb",
      "version": "0.3.2",
      "provenance": [],
      "collapsed_sections": []
    },
    "kernelspec": {
      "display_name": "Python 3",
      "language": "python",
      "name": "python3"
    },
    "accelerator": "GPU"
  },
  "cells": [
    {
      "cell_type": "markdown",
      "metadata": {
        "id": "view-in-github",
        "colab_type": "text"
      },
      "source": [
        "[View in Colaboratory](https://colab.research.google.com/github/BobZhangHT/KDD-Air-Project/blob/master/RNN_Models.ipynb)"
      ]
    },
    {
      "metadata": {
        "id": "1XbOz8vpr_9N",
        "colab_type": "code",
        "colab": {
          "base_uri": "https://localhost:8080/",
          "height": 194
        },
        "outputId": "76a4a7ce-aa40-435a-d3d8-6330a97f39d6"
      },
      "cell_type": "code",
      "source": [
        "!apt-get install -y -qq software-properties-common python-software-properties module-init-tools\n",
        "!add-apt-repository -y ppa:alessandro-strada/ppa 2>&1 > /dev/null\n",
        "!apt-get update -qq 2>&1 > /dev/null\n",
        "!apt-get -y install -qq google-drive-ocamlfuse fuse\n",
        "from google.colab import auth\n",
        "auth.authenticate_user()\n",
        "from oauth2client.client import GoogleCredentials\n",
        "creds = GoogleCredentials.get_application_default()\n",
        "import getpass\n",
        "!google-drive-ocamlfuse -headless -id={creds.client_id} -secret={creds.client_secret} < /dev/null 2>&1 | grep URL\n",
        "vcode = getpass.getpass()\n",
        "!echo {vcode} | google-drive-ocamlfuse -headless -id={creds.client_id} -secret={creds.client_secret}\n",
        "\n",
        "!mkdir -p drive\n",
        "!google-drive-ocamlfuse drive  -o nonempty"
      ],
      "execution_count": 4,
      "outputs": [
        {
          "output_type": "stream",
          "text": [
            "Please, open the following URL in a web browser: https://accounts.google.com/o/oauth2/auth?client_id=32555940559.apps.googleusercontent.com&redirect_uri=urn%3Aietf%3Awg%3Aoauth%3A2.0%3Aoob&scope=https%3A%2F%2Fwww.googleapis.com%2Fauth%2Fdrive&response_type=code&access_type=offline&approval_prompt=force\r\n",
            "··········\n",
            "Please, open the following URL in a web browser: https://accounts.google.com/o/oauth2/auth?client_id=32555940559.apps.googleusercontent.com&redirect_uri=urn%3Aietf%3Awg%3Aoauth%3A2.0%3Aoob&scope=https%3A%2F%2Fwww.googleapis.com%2Fauth%2Fdrive&response_type=code&access_type=offline&approval_prompt=force\n",
            "Please enter the verification code: Access token retrieved correctly.\n"
          ],
          "name": "stdout"
        }
      ]
    },
    {
      "metadata": {
        "id": "THv7e8WIrWhB",
        "colab_type": "code",
        "colab": {
          "base_uri": "https://localhost:8080/",
          "height": 34
        },
        "outputId": "7d0bcdf8-3974-4f47-c4ce-f22c16959569"
      },
      "cell_type": "code",
      "source": [
        "import numpy as np\n",
        "import pandas as pd\n",
        "import matplotlib.pyplot as plt\n",
        "\n",
        "from keras.models import Sequential\n",
        "from keras import layers\n",
        "from keras.optimizers import RMSprop\n",
        "\n",
        "%matplotlib inline"
      ],
      "execution_count": 1,
      "outputs": [
        {
          "output_type": "stream",
          "text": [
            "Using TensorFlow backend.\n"
          ],
          "name": "stderr"
        }
      ]
    },
    {
      "metadata": {
        "id": "_5w_I9f2rWhJ",
        "colab_type": "code",
        "colab": {}
      },
      "cell_type": "code",
      "source": [
        "# Generate yielding timeseries samples and their targets (similar with codes from Deep Learning with Python)\n",
        "\n",
        "def generator(data,lookback,delay,min_index,max_index,\n",
        "                     shuffle=False,batch_size=128,step=6):\n",
        "    # data: original array, first col indicates response variable\n",
        "    # lookback: how many timesteps back the input data shold be\n",
        "    # delay: how many timesteps in the future the target should be\n",
        "    # min_index, max_index: indicate the beginning and end of timesteps to draw from\n",
        "    # shuffle: whether to shuffle the data or sample in chronological order\n",
        "    # batch_size: size of samples per batch\n",
        "    # step: the period, in timesteps, at which we sample data (mainly for shrinking data size)\n",
        "    \n",
        "    if max_index is None:\n",
        "        max_index=len(data)-delay-1\n",
        "    i=min_index+lookback\n",
        "    while 1:\n",
        "        if shuffle:\n",
        "            rows=np.random.randint(min_index+lookback,max_index,size=batch_size)\n",
        "        else:\n",
        "            if i+batch_size>=max_index:\n",
        "                i=min_index+lookback\n",
        "            rows=np.arange(i,min(i+batch_size,max_index))\n",
        "            i+=len(rows)\n",
        "            \n",
        "        samples=np.zeros((len(rows),lookback//step,data.shape[-1]))\n",
        "        targets=np.zeros((len(rows),delay))\n",
        "        \n",
        "        for j,row in enumerate(rows):\n",
        "            indices_spl=np.arange(rows[j]-lookback,rows[j],step,dtype=np.int64)\n",
        "            samples[j]=data[indices_spl]\n",
        "            indices_tgt=np.arange(rows[j],rows[j]+delay,dtype=np.int64)\n",
        "            targets[j]=data[indices_tgt][1]\n",
        "        yield samples, targets"
      ],
      "execution_count": 0,
      "outputs": []
    },
    {
      "metadata": {
        "id": "_eamnGrUrWhN",
        "colab_type": "code",
        "colab": {
          "base_uri": "https://localhost:8080/",
          "height": 238
        },
        "outputId": "8f0d0fa3-95ca-4837-ea32-6414993d1825"
      },
      "cell_type": "code",
      "source": [
        "# load the data\n",
        "dat=pd.read_table('./drive/dat4nn.txt',header=None,delim_whitespace=True)\n",
        "dat=np.array(dat)\n",
        "dat"
      ],
      "execution_count": 5,
      "outputs": [
        {
          "output_type": "execute_result",
          "data": {
            "text/plain": [
              "array([[ 0.49237545, -1.31158826,  1.50796416, ...,  0.        ,\n",
              "         0.        ,  1.        ],\n",
              "       [ 0.63266203, -1.2111115 ,  1.48764176, ...,  0.        ,\n",
              "         0.        ,  1.        ],\n",
              "       [ 0.71568878, -1.19101615,  1.45715816, ...,  0.        ,\n",
              "         0.        ,  1.        ],\n",
              "       ...,\n",
              "       [-0.48676759,  0.73813757, -0.28548783, ...,  0.        ,\n",
              "         0.        ,  1.        ],\n",
              "       [-0.47130744,  0.59747011, -0.24992363, ...,  0.        ,\n",
              "         1.        ,  0.        ],\n",
              "       [-0.45928288,  0.05489563, -0.20927882, ...,  0.        ,\n",
              "         1.        ,  0.        ]])"
            ]
          },
          "metadata": {
            "tags": []
          },
          "execution_count": 5
        }
      ]
    },
    {
      "metadata": {
        "id": "uP7AAVN-rWhS",
        "colab_type": "code",
        "colab": {}
      },
      "cell_type": "code",
      "source": [
        "# some global parameters\n",
        "lookback=240\n",
        "step=3\n",
        "delay=24\n",
        "batch_size=128\n",
        "train_ind=1e4\n",
        "val_ind=10800\n",
        "test_ind=None"
      ],
      "execution_count": 0,
      "outputs": []
    },
    {
      "metadata": {
        "id": "d6yLYGrgrWhU",
        "colab_type": "code",
        "colab": {}
      },
      "cell_type": "code",
      "source": [
        "# train, val, test data genration\n",
        "train_gen=generator(dat,lookback=lookback,delay=delay,\n",
        "                    min_index=0,max_index=train_ind,shuffle=False,step=step,batch_size=batch_size)\n",
        "val_gen=generator(dat,lookback=lookback,delay=delay,\n",
        "                    min_index=train_ind+1,max_index=val_ind,shuffle=False,step=step,batch_size=batch_size)\n",
        "test_gen=generator(dat,lookback=lookback,delay=delay,\n",
        "                    min_index=val_ind+1,max_index=test_ind,shuffle=False,step=step,batch_size=batch_size)\n",
        "\n",
        "val_step=val_ind-train_ind-1-lookback\n",
        "test_step=len(dat)-val_ind-1-lookback"
      ],
      "execution_count": 0,
      "outputs": []
    },
    {
      "metadata": {
        "id": "DZ2os9-QrWhX",
        "colab_type": "text"
      },
      "cell_type": "markdown",
      "source": [
        "# GRU based Baseline"
      ]
    },
    {
      "metadata": {
        "id": "Sl1lI2k4rWhY",
        "colab_type": "code",
        "colab": {
          "base_uri": "https://localhost:8080/",
          "height": 51
        },
        "outputId": "332b5543-1ed7-48e7-92b3-629bb5ca5cff"
      },
      "cell_type": "code",
      "source": [
        "# model pipline\n",
        "model=Sequential()\n",
        "model.add(layers.GRU(32,input_shape=(None,dat.shape[-1])))\n",
        "model.add(layers.Dense(24))\n",
        "\n",
        "model.compile(optimizer=RMSprop(),loss='mae')\n",
        "history=model.fit_generator(train_gen,steps_per_epoch=200,epochs=20,validation_data=val_gen,validation_steps=val_step)"
      ],
      "execution_count": 0,
      "outputs": [
        {
          "output_type": "stream",
          "text": [
            "Epoch 1/20\n",
            "199/200 [============================>.] - ETA: 0s - loss: 0.7305"
          ],
          "name": "stdout"
        }
      ]
    },
    {
      "metadata": {
        "id": "DtiSepinrWhd",
        "colab_type": "code",
        "colab": {},
        "outputId": "c51b7630-4f3e-45b4-e377-e876521c129c"
      },
      "cell_type": "code",
      "source": [
        "# plot\n",
        "\n",
        "loss=history.history['loss']\n",
        "val_loss=history.history['val_loss']\n",
        "\n",
        "epochs=range(1,len(loss)+1)\n",
        "\n",
        "plt.figure()\n",
        "\n",
        "plt.plot(epochs,loss,'r--',label='Training Loss')\n",
        "plt.plot(epochs,val_loss,'b',label='Validation Loss')\n",
        "plt.title(\"Training and Validation Loss\")\n",
        "plt.legend()\n",
        "\n",
        "plt.show()"
      ],
      "execution_count": 0,
      "outputs": [
        {
          "output_type": "display_data",
          "data": {
            "image/png": "[encoded data removed]",
            "text/plain": [
              "<matplotlib.figure.Figure at 0x182f0d7160>"
            ]
          },
          "metadata": {
            "tags": []
          }
        }
      ]
    },
    {
      "metadata": {
        "id": "F7Ku5KBmrWhh",
        "colab_type": "code",
        "colab": {}
      },
      "cell_type": "code",
      "source": [
        ""
      ],
      "execution_count": 0,
      "outputs": []
    }
  ]
}